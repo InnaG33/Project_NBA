{
 "cells": [
  {
   "cell_type": "code",
   "execution_count": 1,
   "metadata": {},
   "outputs": [],
   "source": [
    "%matplotlib notebook\n",
    "%matplotlib inline"
   ]
  },
  {
   "cell_type": "code",
   "execution_count": 2,
   "metadata": {},
   "outputs": [],
   "source": [
    "#dependencies\n",
    "import matplotlib.pyplot as plt\n",
    "import pandas as pd\n",
    "import scipy.stats as st\n",
    "import numpy as np\n",
    "import seaborn as sn\n",
    "import os\n",
    "import csv"
   ]
  },
  {
   "cell_type": "code",
   "execution_count": 3,
   "metadata": {},
   "outputs": [],
   "source": [
    "##CLEAN UP FIRST FILE\n",
    "#get and read the csv file\n",
    "season_data = 'resources/Seasons_Stats.csv'\n",
    "season_df = pd.read_csv(season_data)\n",
    "#remove the unecessary column 'Unnamed:0'\n",
    "season_df.drop('Unnamed: 0', axis=1, inplace=True)\n",
    "season_df = season_df.rename(columns={'Player':'name'})\n"
   ]
  },
  {
   "cell_type": "code",
   "execution_count": 4,
   "metadata": {},
   "outputs": [],
   "source": [
    "#remove years that is less that 1982\n",
    "after_82 = season_df.loc[(season_df['Year'] >= 1982.0)]\n",
    "#select only position C\n",
    "after_82_C =after_82.loc[after_82['Pos'] == 'C'] \n"
   ]
  },
  {
   "cell_type": "code",
   "execution_count": 5,
   "metadata": {},
   "outputs": [
    {
     "name": "stdout",
     "output_type": "stream",
     "text": [
      "Index(['year_start', 'year_end', 'position', 'height', 'weight', 'birth_date',\n",
      "       'college'],\n",
      "      dtype='object')\n"
     ]
    }
   ],
   "source": [
    "##CLEAN UP 2ND FILE\n",
    "#load the files\n",
    "playdata_data_to_load = \"resources/player_data.csv\"\n",
    "#read the dataframes\n",
    "playdata_data = pd.read_csv(playdata_data_to_load)\n",
    "playdata_data = playdata_data.set_index(['name'])\n",
    "# playdata_data = playdata_data[\"height\"].replace({\"-\":\".\"}, regex=True) \n",
    "print (playdata_data.columns)"
   ]
  },
  {
   "cell_type": "code",
   "execution_count": 6,
   "metadata": {},
   "outputs": [
    {
     "data": {
      "text/html": [
       "<div>\n",
       "<style scoped>\n",
       "    .dataframe tbody tr th:only-of-type {\n",
       "        vertical-align: middle;\n",
       "    }\n",
       "\n",
       "    .dataframe tbody tr th {\n",
       "        vertical-align: top;\n",
       "    }\n",
       "\n",
       "    .dataframe thead th {\n",
       "        text-align: right;\n",
       "    }\n",
       "</style>\n",
       "<table border=\"1\" class=\"dataframe\">\n",
       "  <thead>\n",
       "    <tr style=\"text-align: right;\">\n",
       "      <th></th>\n",
       "      <th>Year</th>\n",
       "      <th>name</th>\n",
       "      <th>Pos</th>\n",
       "      <th>Age</th>\n",
       "      <th>Tm</th>\n",
       "      <th>G</th>\n",
       "      <th>GS</th>\n",
       "      <th>MP</th>\n",
       "      <th>PER</th>\n",
       "      <th>TS%</th>\n",
       "      <th>...</th>\n",
       "      <th>TOV</th>\n",
       "      <th>PF</th>\n",
       "      <th>PTS</th>\n",
       "      <th>year_start</th>\n",
       "      <th>year_end</th>\n",
       "      <th>position</th>\n",
       "      <th>height</th>\n",
       "      <th>weight</th>\n",
       "      <th>birth_date</th>\n",
       "      <th>college</th>\n",
       "    </tr>\n",
       "  </thead>\n",
       "  <tbody>\n",
       "    <tr>\n",
       "      <th>0</th>\n",
       "      <td>1982.0</td>\n",
       "      <td>Kareem Abdul-Jabbar*</td>\n",
       "      <td>C</td>\n",
       "      <td>34.0</td>\n",
       "      <td>LAL</td>\n",
       "      <td>76.0</td>\n",
       "      <td>76.0</td>\n",
       "      <td>2677.0</td>\n",
       "      <td>23.4</td>\n",
       "      <td>0.608</td>\n",
       "      <td>...</td>\n",
       "      <td>230.0</td>\n",
       "      <td>224.0</td>\n",
       "      <td>1818.0</td>\n",
       "      <td>NaN</td>\n",
       "      <td>NaN</td>\n",
       "      <td>NaN</td>\n",
       "      <td>NaN</td>\n",
       "      <td>NaN</td>\n",
       "      <td>NaN</td>\n",
       "      <td>NaN</td>\n",
       "    </tr>\n",
       "    <tr>\n",
       "      <th>1</th>\n",
       "      <td>1982.0</td>\n",
       "      <td>Alvan Adams</td>\n",
       "      <td>C</td>\n",
       "      <td>27.0</td>\n",
       "      <td>PHO</td>\n",
       "      <td>79.0</td>\n",
       "      <td>75.0</td>\n",
       "      <td>2393.0</td>\n",
       "      <td>18.6</td>\n",
       "      <td>0.529</td>\n",
       "      <td>...</td>\n",
       "      <td>196.0</td>\n",
       "      <td>269.0</td>\n",
       "      <td>1196.0</td>\n",
       "      <td>1976.0</td>\n",
       "      <td>1988.0</td>\n",
       "      <td>C-F</td>\n",
       "      <td>6-9</td>\n",
       "      <td>210.0</td>\n",
       "      <td>July 19, 1954</td>\n",
       "      <td>University of Oklahoma</td>\n",
       "    </tr>\n",
       "    <tr>\n",
       "      <th>2</th>\n",
       "      <td>1982.0</td>\n",
       "      <td>Dennis Awtrey</td>\n",
       "      <td>C</td>\n",
       "      <td>33.0</td>\n",
       "      <td>POR</td>\n",
       "      <td>10.0</td>\n",
       "      <td>3.0</td>\n",
       "      <td>121.0</td>\n",
       "      <td>1.6</td>\n",
       "      <td>0.396</td>\n",
       "      <td>...</td>\n",
       "      <td>6.0</td>\n",
       "      <td>28.0</td>\n",
       "      <td>15.0</td>\n",
       "      <td>1971.0</td>\n",
       "      <td>1982.0</td>\n",
       "      <td>C</td>\n",
       "      <td>6-10</td>\n",
       "      <td>235.0</td>\n",
       "      <td>February 22, 1948</td>\n",
       "      <td>Santa Clara University</td>\n",
       "    </tr>\n",
       "    <tr>\n",
       "      <th>3</th>\n",
       "      <td>1982.0</td>\n",
       "      <td>Carl Bailey</td>\n",
       "      <td>C</td>\n",
       "      <td>23.0</td>\n",
       "      <td>POR</td>\n",
       "      <td>1.0</td>\n",
       "      <td>0.0</td>\n",
       "      <td>7.0</td>\n",
       "      <td>-6.8</td>\n",
       "      <td>1.000</td>\n",
       "      <td>...</td>\n",
       "      <td>2.0</td>\n",
       "      <td>2.0</td>\n",
       "      <td>2.0</td>\n",
       "      <td>1982.0</td>\n",
       "      <td>1982.0</td>\n",
       "      <td>C</td>\n",
       "      <td>7-0</td>\n",
       "      <td>210.0</td>\n",
       "      <td>April 23, 1958</td>\n",
       "      <td>Tuskegee University</td>\n",
       "    </tr>\n",
       "    <tr>\n",
       "      <th>4</th>\n",
       "      <td>1982.0</td>\n",
       "      <td>Kent Benson</td>\n",
       "      <td>C</td>\n",
       "      <td>27.0</td>\n",
       "      <td>DET</td>\n",
       "      <td>75.0</td>\n",
       "      <td>72.0</td>\n",
       "      <td>2467.0</td>\n",
       "      <td>14.4</td>\n",
       "      <td>0.539</td>\n",
       "      <td>...</td>\n",
       "      <td>160.0</td>\n",
       "      <td>214.0</td>\n",
       "      <td>940.0</td>\n",
       "      <td>1978.0</td>\n",
       "      <td>1988.0</td>\n",
       "      <td>C</td>\n",
       "      <td>6-10</td>\n",
       "      <td>235.0</td>\n",
       "      <td>December 27, 1954</td>\n",
       "      <td>Indiana University</td>\n",
       "    </tr>\n",
       "  </tbody>\n",
       "</table>\n",
       "<p>5 rows × 59 columns</p>\n",
       "</div>"
      ],
      "text/plain": [
       "     Year                  name Pos   Age   Tm     G    GS      MP   PER  \\\n",
       "0  1982.0  Kareem Abdul-Jabbar*   C  34.0  LAL  76.0  76.0  2677.0  23.4   \n",
       "1  1982.0           Alvan Adams   C  27.0  PHO  79.0  75.0  2393.0  18.6   \n",
       "2  1982.0         Dennis Awtrey   C  33.0  POR  10.0   3.0   121.0   1.6   \n",
       "3  1982.0           Carl Bailey   C  23.0  POR   1.0   0.0     7.0  -6.8   \n",
       "4  1982.0           Kent Benson   C  27.0  DET  75.0  72.0  2467.0  14.4   \n",
       "\n",
       "     TS%  ...    TOV     PF     PTS  year_start  year_end  position  height  \\\n",
       "0  0.608  ...  230.0  224.0  1818.0         NaN       NaN       NaN     NaN   \n",
       "1  0.529  ...  196.0  269.0  1196.0      1976.0    1988.0       C-F     6-9   \n",
       "2  0.396  ...    6.0   28.0    15.0      1971.0    1982.0         C    6-10   \n",
       "3  1.000  ...    2.0    2.0     2.0      1982.0    1982.0         C     7-0   \n",
       "4  0.539  ...  160.0  214.0   940.0      1978.0    1988.0         C    6-10   \n",
       "\n",
       "   weight         birth_date                 college  \n",
       "0     NaN                NaN                     NaN  \n",
       "1   210.0      July 19, 1954  University of Oklahoma  \n",
       "2   235.0  February 22, 1948  Santa Clara University  \n",
       "3   210.0     April 23, 1958     Tuskegee University  \n",
       "4   235.0  December 27, 1954      Indiana University  \n",
       "\n",
       "[5 rows x 59 columns]"
      ]
     },
     "execution_count": 6,
     "metadata": {},
     "output_type": "execute_result"
    }
   ],
   "source": [
    "##merge the height and weight of players from playdata_data to after_82_C\n",
    "#print the columns and see what i should rename to be able to tie the data \n",
    "season_df1 = pd.merge(after_82_C, playdata_data, how=\"left\", on=[\"name\", \"name\"])\n",
    "season_df1.head()"
   ]
  },
  {
   "cell_type": "code",
   "execution_count": 7,
   "metadata": {},
   "outputs": [
    {
     "data": {
      "text/plain": [
       "0       <class 'float'>\n",
       "1         <class 'str'>\n",
       "2         <class 'str'>\n",
       "3         <class 'str'>\n",
       "4         <class 'str'>\n",
       "             ...       \n",
       "3671      <class 'str'>\n",
       "3672      <class 'str'>\n",
       "3673      <class 'str'>\n",
       "3674      <class 'str'>\n",
       "3675      <class 'str'>\n",
       "Name: height, Length: 3676, dtype: object"
      ]
     },
     "execution_count": 7,
     "metadata": {},
     "output_type": "execute_result"
    }
   ],
   "source": [
    "#changethe dash in height to period\n",
    "season_df1['height'] = season_df1['height'].str.replace('-', '.')\n",
    "season_df1['height'].apply(type)"
   ]
  },
  {
   "cell_type": "code",
   "execution_count": 8,
   "metadata": {},
   "outputs": [
    {
     "data": {
      "text/plain": [
       "<bound method Series.unique of 0       NaN\n",
       "1       6.9\n",
       "2       6.1\n",
       "3       7.0\n",
       "4       6.1\n",
       "       ... \n",
       "3671    6.8\n",
       "3672    7.0\n",
       "3673    7.0\n",
       "3674    7.0\n",
       "3675    7.1\n",
       "Name: height, Length: 3676, dtype: float64>"
      ]
     },
     "execution_count": 8,
     "metadata": {},
     "output_type": "execute_result"
    }
   ],
   "source": [
    "#change height type to float to be able to calculate properly\n",
    "season_df1['height'] = season_df1['height'].astype('float')\n",
    "season_df1['height'].unique"
   ]
  },
  {
   "cell_type": "code",
   "execution_count": 14,
   "metadata": {},
   "outputs": [
    {
     "data": {
      "text/html": [
       "<div>\n",
       "<style scoped>\n",
       "    .dataframe tbody tr th:only-of-type {\n",
       "        vertical-align: middle;\n",
       "    }\n",
       "\n",
       "    .dataframe tbody tr th {\n",
       "        vertical-align: top;\n",
       "    }\n",
       "\n",
       "    .dataframe thead th {\n",
       "        text-align: right;\n",
       "    }\n",
       "</style>\n",
       "<table border=\"1\" class=\"dataframe\">\n",
       "  <thead>\n",
       "    <tr style=\"text-align: right;\">\n",
       "      <th></th>\n",
       "      <th>Age</th>\n",
       "      <th>height</th>\n",
       "      <th>weight</th>\n",
       "      <th>3P</th>\n",
       "      <th>2P</th>\n",
       "      <th>FT</th>\n",
       "      <th>PTS</th>\n",
       "    </tr>\n",
       "  </thead>\n",
       "  <tbody>\n",
       "    <tr>\n",
       "      <th>1</th>\n",
       "      <td>27.0</td>\n",
       "      <td>6.9</td>\n",
       "      <td>210.0</td>\n",
       "      <td>0.0</td>\n",
       "      <td>507.0</td>\n",
       "      <td>182.0</td>\n",
       "      <td>1196.0</td>\n",
       "    </tr>\n",
       "    <tr>\n",
       "      <th>2</th>\n",
       "      <td>33.0</td>\n",
       "      <td>6.1</td>\n",
       "      <td>235.0</td>\n",
       "      <td>0.0</td>\n",
       "      <td>5.0</td>\n",
       "      <td>5.0</td>\n",
       "      <td>15.0</td>\n",
       "    </tr>\n",
       "    <tr>\n",
       "      <th>3</th>\n",
       "      <td>23.0</td>\n",
       "      <td>7.0</td>\n",
       "      <td>210.0</td>\n",
       "      <td>0.0</td>\n",
       "      <td>1.0</td>\n",
       "      <td>0.0</td>\n",
       "      <td>2.0</td>\n",
       "    </tr>\n",
       "    <tr>\n",
       "      <th>4</th>\n",
       "      <td>27.0</td>\n",
       "      <td>6.1</td>\n",
       "      <td>235.0</td>\n",
       "      <td>3.0</td>\n",
       "      <td>402.0</td>\n",
       "      <td>127.0</td>\n",
       "      <td>940.0</td>\n",
       "    </tr>\n",
       "    <tr>\n",
       "      <th>5</th>\n",
       "      <td>23.0</td>\n",
       "      <td>6.1</td>\n",
       "      <td>215.0</td>\n",
       "      <td>0.0</td>\n",
       "      <td>192.0</td>\n",
       "      <td>86.0</td>\n",
       "      <td>470.0</td>\n",
       "    </tr>\n",
       "    <tr>\n",
       "      <th>...</th>\n",
       "      <td>...</td>\n",
       "      <td>...</td>\n",
       "      <td>...</td>\n",
       "      <td>...</td>\n",
       "      <td>...</td>\n",
       "      <td>...</td>\n",
       "      <td>...</td>\n",
       "    </tr>\n",
       "    <tr>\n",
       "      <th>3671</th>\n",
       "      <td>24.0</td>\n",
       "      <td>6.8</td>\n",
       "      <td>260.0</td>\n",
       "      <td>0.0</td>\n",
       "      <td>138.0</td>\n",
       "      <td>70.0</td>\n",
       "      <td>346.0</td>\n",
       "    </tr>\n",
       "    <tr>\n",
       "      <th>3672</th>\n",
       "      <td>26.0</td>\n",
       "      <td>7.0</td>\n",
       "      <td>231.0</td>\n",
       "      <td>0.0</td>\n",
       "      <td>55.0</td>\n",
       "      <td>36.0</td>\n",
       "      <td>146.0</td>\n",
       "    </tr>\n",
       "    <tr>\n",
       "      <th>3673</th>\n",
       "      <td>27.0</td>\n",
       "      <td>7.0</td>\n",
       "      <td>253.0</td>\n",
       "      <td>0.0</td>\n",
       "      <td>78.0</td>\n",
       "      <td>22.0</td>\n",
       "      <td>178.0</td>\n",
       "    </tr>\n",
       "    <tr>\n",
       "      <th>3674</th>\n",
       "      <td>20.0</td>\n",
       "      <td>7.0</td>\n",
       "      <td>240.0</td>\n",
       "      <td>0.0</td>\n",
       "      <td>10.0</td>\n",
       "      <td>3.0</td>\n",
       "      <td>23.0</td>\n",
       "    </tr>\n",
       "    <tr>\n",
       "      <th>3675</th>\n",
       "      <td>19.0</td>\n",
       "      <td>7.1</td>\n",
       "      <td>265.0</td>\n",
       "      <td>0.0</td>\n",
       "      <td>126.0</td>\n",
       "      <td>32.0</td>\n",
       "      <td>284.0</td>\n",
       "    </tr>\n",
       "  </tbody>\n",
       "</table>\n",
       "<p>3459 rows × 7 columns</p>\n",
       "</div>"
      ],
      "text/plain": [
       "       Age  height  weight   3P     2P     FT     PTS\n",
       "1     27.0     6.9   210.0  0.0  507.0  182.0  1196.0\n",
       "2     33.0     6.1   235.0  0.0    5.0    5.0    15.0\n",
       "3     23.0     7.0   210.0  0.0    1.0    0.0     2.0\n",
       "4     27.0     6.1   235.0  3.0  402.0  127.0   940.0\n",
       "5     23.0     6.1   215.0  0.0  192.0   86.0   470.0\n",
       "...    ...     ...     ...  ...    ...    ...     ...\n",
       "3671  24.0     6.8   260.0  0.0  138.0   70.0   346.0\n",
       "3672  26.0     7.0   231.0  0.0   55.0   36.0   146.0\n",
       "3673  27.0     7.0   253.0  0.0   78.0   22.0   178.0\n",
       "3674  20.0     7.0   240.0  0.0   10.0    3.0    23.0\n",
       "3675  19.0     7.1   265.0  0.0  126.0   32.0   284.0\n",
       "\n",
       "[3459 rows x 7 columns]"
      ]
     },
     "execution_count": 14,
     "metadata": {},
     "output_type": "execute_result"
    }
   ],
   "source": [
    "season_df2 = season_df1[['Age', 'height', 'weight','3P','2P','FT','PTS']].dropna()\n",
    "season_df2"
   ]
  },
  {
   "cell_type": "code",
   "execution_count": 15,
   "metadata": {},
   "outputs": [
    {
     "data": {
      "image/png": "[encoded data removed]",
      "text/plain": [
       "<Figure size 432x288 with 2 Axes>"
      ]
     },
     "metadata": {
      "needs_background": "light"
     },
     "output_type": "display_data"
    }
   ],
   "source": [
    "corrMatrix = season_df2.corr()\n",
    "sn.heatmap(corrMatrix, annot=True)\n",
    "plt.show()\n",
    "#too many data"
   ]
  },
  {
   "cell_type": "code",
   "execution_count": 16,
   "metadata": {},
   "outputs": [
    {
     "data": {
      "image/png": "[encoded data removed]",
      "text/plain": [
       "<Figure size 648x360 with 1 Axes>"
      ]
     },
     "metadata": {
      "needs_background": "light"
     },
     "output_type": "display_data"
    },
    {
     "data": {
      "text/plain": [
       "<Figure size 432x288 with 0 Axes>"
      ]
     },
     "metadata": {},
     "output_type": "display_data"
    }
   ],
   "source": [
    "#check the graph for position change in weight\n",
    "grouped_df = season_df1.groupby(['position'])\n",
    "avg_df = grouped_df[[\"weight\"]].mean()\n",
    "\n",
    "#Declare the x axis and the tick locations\n",
    "x_axis = np.arange(len(avg_df))\n",
    "tick_locations = [value for value in x_axis]\n",
    "#Plot and format the bar chart\n",
    "multi_plot = avg_df.plot(kind=\"bar\", figsize=(9,5),align=\"center\")\n",
    "multi_plot.legend(loc='center left', bbox_to_anchor=(1, 0.5))\n",
    "#Provide the title and labels of x and y axis\n",
    "\n",
    "plt.xlabel(\"position\")\n",
    "plt.ylabel(\"Average weight\")\n",
    "\n",
    "plt.grid()\n",
    "plt.show()\n",
    "plt.tight_layout()"
   ]
  },
  {
   "cell_type": "code",
   "execution_count": 17,
   "metadata": {},
   "outputs": [
    {
     "data": {
      "image/png": "[encoded data removed]",
      "text/plain": [
       "<Figure size 648x360 with 1 Axes>"
      ]
     },
     "metadata": {
      "needs_background": "light"
     },
     "output_type": "display_data"
    },
    {
     "data": {
      "text/plain": [
       "<Figure size 432x288 with 0 Axes>"
      ]
     },
     "metadata": {},
     "output_type": "display_data"
    }
   ],
   "source": [
    "#check the graph for position change in age\n",
    "grouped_df = season_df1.groupby(['position'])\n",
    "avg_df = grouped_df[[\"Age\"]].mean()\n",
    "\n",
    "#Declare the x axis and the tick locations\n",
    "x_axis = np.arange(len(avg_df))\n",
    "tick_locations = [value for value in x_axis]\n",
    "#Plot and format the bar chart\n",
    "multi_plot = avg_df.plot(kind=\"bar\", figsize=(9,5),align=\"center\")\n",
    "multi_plot.legend(loc='center left', bbox_to_anchor=(1, 0.5))\n",
    "#Provide the title and labels of x and y axis\n",
    "\n",
    "plt.xlabel(\"position\")\n",
    "plt.ylabel(\"Average age\")\n",
    "\n",
    "plt.grid()\n",
    "plt.show()\n",
    "plt.tight_layout()"
   ]
  },
  {
   "cell_type": "code",
   "execution_count": 18,
   "metadata": {},
   "outputs": [
    {
     "data": {
      "image/png": "[encoded data removed]",
      "text/plain": [
       "<Figure size 648x360 with 1 Axes>"
      ]
     },
     "metadata": {
      "needs_background": "light"
     },
     "output_type": "display_data"
    },
    {
     "data": {
      "text/plain": [
       "<Figure size 432x288 with 0 Axes>"
      ]
     },
     "metadata": {},
     "output_type": "display_data"
    }
   ],
   "source": [
    "#create bins for height and compare it to points, \n",
    "season_df1['bins']=pd.cut(season_df1['height'], np.arange(0,11,0.5))\n",
    "      \n",
    "grouped_df = season_df1.groupby(['bins'])\n",
    "avg_df = grouped_df[[\"2P\"]].mean()\n",
    "\n",
    "#Declare the x axis and the tick locations\n",
    "x_axis = np.arange(len(avg_df))\n",
    "tick_locations = [value for value in x_axis]\n",
    "#Plot and format the bar chart\n",
    "multi_plot = avg_df.plot(kind=\"bar\",figsize=(9,5),align=\"center\")\n",
    "multi_plot.legend(loc='center left', bbox_to_anchor=(1, 0.5))\n",
    "#Provide the title and labels of x and y axis\n",
    "\n",
    "plt.xlabel(\"height\")\n",
    "plt.ylabel(\"Average 2 Point Field Goals Per Game\")\n",
    "\n",
    "plt.grid()\n",
    "plt.show()\n",
    "plt.tight_layout()\n"
   ]
  },
  {
   "cell_type": "code",
   "execution_count": 19,
   "metadata": {},
   "outputs": [
    {
     "data": {
      "image/png": "[encoded data removed]",
      "text/plain": [
       "<Figure size 648x360 with 1 Axes>"
      ]
     },
     "metadata": {
      "needs_background": "light"
     },
     "output_type": "display_data"
    },
    {
     "data": {
      "text/plain": [
       "<Figure size 432x288 with 0 Axes>"
      ]
     },
     "metadata": {},
     "output_type": "display_data"
    }
   ],
   "source": [
    "#create bins for height and compare it to points, \n",
    "season_df1['bins']=pd.cut(season_df1['height'], np.arange(0,11,0.5))\n",
    "      \n",
    "grouped_df = season_df1.groupby(['bins'])\n",
    "avg_df = grouped_df[[\"3P\"]].mean()\n",
    "\n",
    "#Declare the x axis and the tick locations\n",
    "x_axis = np.arange(len(avg_df))\n",
    "tick_locations = [value for value in x_axis]\n",
    "#Plot and format the bar chart\n",
    "multi_plot = avg_df.plot(kind=\"bar\",figsize=(9,5),align=\"center\")\n",
    "multi_plot.legend(loc='center left', bbox_to_anchor=(1, 0.5))\n",
    "#Provide the title and labels of x and y axis\n",
    "\n",
    "plt.xlabel(\"height\")\n",
    "plt.ylabel(\"Average  3 Point Field Goals Per Game\")\n",
    "\n",
    "plt.grid()\n",
    "plt.show()\n",
    "plt.tight_layout()\n"
   ]
  },
  {
   "cell_type": "code",
   "execution_count": 20,
   "metadata": {},
   "outputs": [
    {
     "data": {
      "image/png": "[encoded data removed]",
      "text/plain": [
       "<Figure size 432x288 with 1 Axes>"
      ]
     },
     "metadata": {
      "needs_background": "light"
     },
     "output_type": "display_data"
    }
   ],
   "source": [
    "##Four of the most promising height\n",
    "season_df1['bins']=pd.cut(season_df1['height'], np.arange(0,11,0.5))\n",
    "      \n",
    "grouped_df = season_df1.groupby(['bins'])\n",
    "criteria_df = grouped_df[[\"3P\", \"2P\", \"FT\"]].mean()\n",
    "\n",
    "#Declare the x axis and the tick locations\n",
    "x_axis = np.arange(len(criteria_df))\n",
    "tick_locations = [value for value in x_axis]\n",
    "# Generate a line plot of height vs points\n",
    "\n",
    "plt.title('Height vs Points')\n",
    "plt.plot(criteria_df,linewidth=2, marker=\"o\")\n",
    "plt.xlabel('Height')\n",
    "plt.ylabel('Average Points')\n",
    "\n",
    "plt.savefig('linechart')\n",
    "plt.show()"
   ]
  },
  {
   "cell_type": "code",
   "execution_count": null,
   "metadata": {},
   "outputs": [],
   "source": []
  },
  {
   "cell_type": "code",
   "execution_count": null,
   "metadata": {},
   "outputs": [],
   "source": []
  },
  {
   "cell_type": "code",
   "execution_count": null,
   "metadata": {},
   "outputs": [],
   "source": [
    "# player_data = 'player_data.csv'\n",
    "# player_data = pd.read_csv(player_data)\n",
    "# player_data\n",
    "# player_data['name']\n",
    "\n",
    "# player_data = player_data.rename(columns={'name': 'Player'})\n",
    "# player_data\n",
    "\n",
    "# players = 'Players.csv'\n",
    "# players = pd.read_csv(players)\n",
    "\n",
    "# # sorting by first name \n",
    "# # complete_player_data.sort_values(\"Player\", inplace = True) \n",
    "  \n",
    "# # dropping ALL duplicte values \n",
    "# complete_player_df.drop_duplicates(subset =\"Player\", \n",
    "#                      keep = False, inplace = True) \n",
    "  \n",
    "# # displaying data \n",
    "# complete_player_data\n",
    "#height analysis\n",
    "# season_df2=season_df2.dropna(subset=['height'])\n",
    "# season_df2 = season_df2.set_index(['name'])\n",
    "#drop the year and get the average of data\n",
    "# season_df2 = season_df2.drop(columns=['Year'])\n",
    "# season_df2 = season_df2.mean\n",
    "# print (season_df2.columns)\n",
    "# Bin4 = season_df1.groupby(['height']).get_group(7.00, )\n",
    "# bins = [0, 6, 6.5, 7, 7.5, 8, 8.5, 9, 10]\n"
   ]
  }
 ],
 "metadata": {
  "kernelspec": {
   "display_name": "Python 3",
   "language": "python",
   "name": "python3"
  },
  "language_info": {
   "codemirror_mode": {
    "name": "ipython",
    "version": 3
   },
   "file_extension": ".py",
   "mimetype": "text/x-python",
   "name": "python",
   "nbconvert_exporter": "python",
   "pygments_lexer": "ipython3",
   "version": "3.8.2"
  }
 },
 "nbformat": 4,
 "nbformat_minor": 2
}
