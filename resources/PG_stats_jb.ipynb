{
 "cells": [
  {
   "cell_type": "code",
   "execution_count": 104,
   "metadata": {},
   "outputs": [],
   "source": [
    "#dependencies\n",
    "import pandas as pd\n",
    "import os\n",
    "import csv\n",
    "import matplotlib.pyplot as plt\n",
    "from scipy.stats import linregress\n",
    "import scipy.stats as st"
   ]
  },
  {
   "cell_type": "code",
   "execution_count": 108,
   "metadata": {},
   "outputs": [],
   "source": [
    "player_data = 'player_data.csv'\n",
    "player_data = pd.read_csv(player_data)\n",
    "player_data = player_data.rename(columns={'name': 'Player'})\n",
    "\n",
    "players = 'Players.csv'\n",
    "players = pd.read_csv(players)\n",
    "\n",
    "complete_player_data = pd.merge(player_data, players,\n",
    "                                 how='left', on=[\"Player\",\"Player\"])\n",
    "\n",
    "complete_player_data.sort_values(\"Player\", inplace = True) \n",
    "\n",
    "complete_player_data.drop_duplicates(subset =\"Player\", \n",
    "                     keep = False, inplace = True) \n",
    "\n",
    "clean_player_data = complete_player_data.dropna(axis = 0, how ='any')\n",
    "\n",
    "# print(\"Old data frame length:\", len(complete_player_data), \"\\nNew data frame length:\",  \n",
    "#        len(clean_player_data), \"\\nNumber of rows with at least 1 NA value: \", \n",
    "#        (len(complete_player_data)-len(clean_player_data)))"
   ]
  },
  {
   "cell_type": "code",
   "execution_count": 110,
   "metadata": {},
   "outputs": [
    {
     "data": {
      "text/html": [
       "<div>\n",
       "<style scoped>\n",
       "    .dataframe tbody tr th:only-of-type {\n",
       "        vertical-align: middle;\n",
       "    }\n",
       "\n",
       "    .dataframe tbody tr th {\n",
       "        vertical-align: top;\n",
       "    }\n",
       "\n",
       "    .dataframe thead th {\n",
       "        text-align: right;\n",
       "    }\n",
       "</style>\n",
       "<table border=\"1\" class=\"dataframe\">\n",
       "  <thead>\n",
       "    <tr style=\"text-align: right;\">\n",
       "      <th></th>\n",
       "      <th>Player</th>\n",
       "      <th>height_y</th>\n",
       "      <th>weight_y</th>\n",
       "    </tr>\n",
       "  </thead>\n",
       "  <tbody>\n",
       "    <tr>\n",
       "      <td>474</td>\n",
       "      <td>Aaron Brooks</td>\n",
       "      <td>183.0</td>\n",
       "      <td>73.0</td>\n",
       "    </tr>\n",
       "    <tr>\n",
       "      <td>1451</td>\n",
       "      <td>Aaron Gordon</td>\n",
       "      <td>206.0</td>\n",
       "      <td>99.0</td>\n",
       "    </tr>\n",
       "    <tr>\n",
       "      <td>1489</td>\n",
       "      <td>Aaron Gray</td>\n",
       "      <td>213.0</td>\n",
       "      <td>122.0</td>\n",
       "    </tr>\n",
       "    <tr>\n",
       "      <td>1666</td>\n",
       "      <td>Aaron Harrison</td>\n",
       "      <td>198.0</td>\n",
       "      <td>95.0</td>\n",
       "    </tr>\n",
       "    <tr>\n",
       "      <td>1945</td>\n",
       "      <td>Aaron James</td>\n",
       "      <td>203.0</td>\n",
       "      <td>95.0</td>\n",
       "    </tr>\n",
       "    <tr>\n",
       "      <td>...</td>\n",
       "      <td>...</td>\n",
       "      <td>...</td>\n",
       "      <td>...</td>\n",
       "    </tr>\n",
       "    <tr>\n",
       "      <td>2339</td>\n",
       "      <td>Zach LaVine</td>\n",
       "      <td>196.0</td>\n",
       "      <td>85.0</td>\n",
       "    </tr>\n",
       "    <tr>\n",
       "      <td>3312</td>\n",
       "      <td>Zach Randolph</td>\n",
       "      <td>206.0</td>\n",
       "      <td>117.0</td>\n",
       "    </tr>\n",
       "    <tr>\n",
       "      <td>1</td>\n",
       "      <td>Zaid Abdul-Aziz</td>\n",
       "      <td>206.0</td>\n",
       "      <td>106.0</td>\n",
       "    </tr>\n",
       "    <tr>\n",
       "      <td>4531</td>\n",
       "      <td>Zeke Zawoluk</td>\n",
       "      <td>201.0</td>\n",
       "      <td>97.0</td>\n",
       "    </tr>\n",
       "    <tr>\n",
       "      <td>1602</td>\n",
       "      <td>Zendon Hamilton</td>\n",
       "      <td>211.0</td>\n",
       "      <td>113.0</td>\n",
       "    </tr>\n",
       "  </tbody>\n",
       "</table>\n",
       "<p>3019 rows × 3 columns</p>\n",
       "</div>"
      ],
      "text/plain": [
       "               Player  height_y  weight_y\n",
       "474      Aaron Brooks     183.0      73.0\n",
       "1451     Aaron Gordon     206.0      99.0\n",
       "1489       Aaron Gray     213.0     122.0\n",
       "1666   Aaron Harrison     198.0      95.0\n",
       "1945      Aaron James     203.0      95.0\n",
       "...               ...       ...       ...\n",
       "2339      Zach LaVine     196.0      85.0\n",
       "3312    Zach Randolph     206.0     117.0\n",
       "1     Zaid Abdul-Aziz     206.0     106.0\n",
       "4531     Zeke Zawoluk     201.0      97.0\n",
       "1602  Zendon Hamilton     211.0     113.0\n",
       "\n",
       "[3019 rows x 3 columns]"
      ]
     },
     "execution_count": 110,
     "metadata": {},
     "output_type": "execute_result"
    }
   ],
   "source": [
    "new_columns_1 = [\n",
    "    'Player',\n",
    "    'height_y',\n",
    "    'weight_y',\n",
    "]\n",
    "\n",
    "clean_height_weight_df = clean_player_data[new_columns_1]\n",
    "clean_height_weight_df"
   ]
  },
  {
   "cell_type": "code",
   "execution_count": 116,
   "metadata": {},
   "outputs": [
    {
     "name": "stdout",
     "output_type": "stream",
     "text": [
      "There are 4648 Point Guards with avaliable height and weight data.\n"
     ]
    }
   ],
   "source": [
    "stats_data = 'Seasons_Stats.csv'\n",
    "stats_data = pd.read_csv(stats_data)\n",
    "\n",
    "PG_stats_df = stats_data[stats_data['Pos']=='PG']\n",
    "print(f\"There are {len(PG_stats_df)} Point Guards with avaliable height and weight data.\")"
   ]
  },
  {
   "cell_type": "code",
   "execution_count": 24,
   "metadata": {},
   "outputs": [],
   "source": [
    "# list(stats_data.columns)"
   ]
  },
  {
   "cell_type": "code",
   "execution_count": 117,
   "metadata": {},
   "outputs": [
    {
     "data": {
      "text/html": [
       "<div>\n",
       "<style scoped>\n",
       "    .dataframe tbody tr th:only-of-type {\n",
       "        vertical-align: middle;\n",
       "    }\n",
       "\n",
       "    .dataframe tbody tr th {\n",
       "        vertical-align: top;\n",
       "    }\n",
       "\n",
       "    .dataframe thead th {\n",
       "        text-align: right;\n",
       "    }\n",
       "</style>\n",
       "<table border=\"1\" class=\"dataframe\">\n",
       "  <thead>\n",
       "    <tr style=\"text-align: right;\">\n",
       "      <th></th>\n",
       "      <th>Player</th>\n",
       "      <th>Pos</th>\n",
       "      <th>PTS</th>\n",
       "      <th>BLK</th>\n",
       "    </tr>\n",
       "  </thead>\n",
       "  <tbody>\n",
       "    <tr>\n",
       "      <td>11</td>\n",
       "      <td>Nelson Bobb</td>\n",
       "      <td>PG</td>\n",
       "      <td>242.0</td>\n",
       "      <td>NaN</td>\n",
       "    </tr>\n",
       "    <tr>\n",
       "      <td>32</td>\n",
       "      <td>Al Cervi*</td>\n",
       "      <td>PG</td>\n",
       "      <td>573.0</td>\n",
       "      <td>NaN</td>\n",
       "    </tr>\n",
       "    <tr>\n",
       "      <td>49</td>\n",
       "      <td>Bob Davies*</td>\n",
       "      <td>PG</td>\n",
       "      <td>895.0</td>\n",
       "      <td>NaN</td>\n",
       "    </tr>\n",
       "    <tr>\n",
       "      <td>108</td>\n",
       "      <td>Red Holzman*</td>\n",
       "      <td>PG</td>\n",
       "      <td>556.0</td>\n",
       "      <td>NaN</td>\n",
       "    </tr>\n",
       "    <tr>\n",
       "      <td>114</td>\n",
       "      <td>Ralph Johnson</td>\n",
       "      <td>PG</td>\n",
       "      <td>590.0</td>\n",
       "      <td>NaN</td>\n",
       "    </tr>\n",
       "    <tr>\n",
       "      <td>...</td>\n",
       "      <td>...</td>\n",
       "      <td>...</td>\n",
       "      <td>...</td>\n",
       "      <td>...</td>\n",
       "    </tr>\n",
       "    <tr>\n",
       "      <td>24661</td>\n",
       "      <td>Deron Williams</td>\n",
       "      <td>PG</td>\n",
       "      <td>701.0</td>\n",
       "      <td>8.0</td>\n",
       "    </tr>\n",
       "    <tr>\n",
       "      <td>24662</td>\n",
       "      <td>Deron Williams</td>\n",
       "      <td>PG</td>\n",
       "      <td>522.0</td>\n",
       "      <td>2.0</td>\n",
       "    </tr>\n",
       "    <tr>\n",
       "      <td>24663</td>\n",
       "      <td>Deron Williams</td>\n",
       "      <td>PG</td>\n",
       "      <td>179.0</td>\n",
       "      <td>6.0</td>\n",
       "    </tr>\n",
       "    <tr>\n",
       "      <td>24681</td>\n",
       "      <td>Delon Wright</td>\n",
       "      <td>PG</td>\n",
       "      <td>150.0</td>\n",
       "      <td>11.0</td>\n",
       "    </tr>\n",
       "    <tr>\n",
       "      <td>24683</td>\n",
       "      <td>Joe Young</td>\n",
       "      <td>PG</td>\n",
       "      <td>68.0</td>\n",
       "      <td>0.0</td>\n",
       "    </tr>\n",
       "  </tbody>\n",
       "</table>\n",
       "<p>4648 rows × 4 columns</p>\n",
       "</div>"
      ],
      "text/plain": [
       "               Player Pos    PTS   BLK\n",
       "11        Nelson Bobb  PG  242.0   NaN\n",
       "32          Al Cervi*  PG  573.0   NaN\n",
       "49        Bob Davies*  PG  895.0   NaN\n",
       "108      Red Holzman*  PG  556.0   NaN\n",
       "114     Ralph Johnson  PG  590.0   NaN\n",
       "...               ...  ..    ...   ...\n",
       "24661  Deron Williams  PG  701.0   8.0\n",
       "24662  Deron Williams  PG  522.0   2.0\n",
       "24663  Deron Williams  PG  179.0   6.0\n",
       "24681    Delon Wright  PG  150.0  11.0\n",
       "24683       Joe Young  PG   68.0   0.0\n",
       "\n",
       "[4648 rows x 4 columns]"
      ]
     },
     "execution_count": 117,
     "metadata": {},
     "output_type": "execute_result"
    }
   ],
   "source": [
    "columns = [\n",
    "    'Player',\n",
    "    'Pos',\n",
    "    'PTS',\n",
    "    'BLK'\n",
    "]\n",
    "\n",
    "PG_df = PG_stats_df[columns]\n",
    "PG_df"
   ]
  },
  {
   "cell_type": "code",
   "execution_count": 89,
   "metadata": {},
   "outputs": [
    {
     "data": {
      "text/html": [
       "<div>\n",
       "<style scoped>\n",
       "    .dataframe tbody tr th:only-of-type {\n",
       "        vertical-align: middle;\n",
       "    }\n",
       "\n",
       "    .dataframe tbody tr th {\n",
       "        vertical-align: top;\n",
       "    }\n",
       "\n",
       "    .dataframe thead th {\n",
       "        text-align: right;\n",
       "    }\n",
       "</style>\n",
       "<table border=\"1\" class=\"dataframe\">\n",
       "  <thead>\n",
       "    <tr style=\"text-align: right;\">\n",
       "      <th></th>\n",
       "      <th>Player</th>\n",
       "      <th>height_y</th>\n",
       "      <th>weight_y</th>\n",
       "      <th>Pos</th>\n",
       "      <th>PTS</th>\n",
       "      <th>BLK</th>\n",
       "    </tr>\n",
       "  </thead>\n",
       "  <tbody>\n",
       "    <tr>\n",
       "      <td>0</td>\n",
       "      <td>Aaron Brooks</td>\n",
       "      <td>183.0</td>\n",
       "      <td>73.0</td>\n",
       "      <td>PG</td>\n",
       "      <td>264.0</td>\n",
       "      <td>5.0</td>\n",
       "    </tr>\n",
       "    <tr>\n",
       "      <td>1</td>\n",
       "      <td>Aaron Brooks</td>\n",
       "      <td>183.0</td>\n",
       "      <td>73.0</td>\n",
       "      <td>PG</td>\n",
       "      <td>894.0</td>\n",
       "      <td>8.0</td>\n",
       "    </tr>\n",
       "    <tr>\n",
       "      <td>2</td>\n",
       "      <td>Aaron Brooks</td>\n",
       "      <td>183.0</td>\n",
       "      <td>73.0</td>\n",
       "      <td>PG</td>\n",
       "      <td>1604.0</td>\n",
       "      <td>14.0</td>\n",
       "    </tr>\n",
       "    <tr>\n",
       "      <td>3</td>\n",
       "      <td>Aaron Brooks</td>\n",
       "      <td>183.0</td>\n",
       "      <td>73.0</td>\n",
       "      <td>PG</td>\n",
       "      <td>634.0</td>\n",
       "      <td>3.0</td>\n",
       "    </tr>\n",
       "    <tr>\n",
       "      <td>4</td>\n",
       "      <td>Aaron Brooks</td>\n",
       "      <td>183.0</td>\n",
       "      <td>73.0</td>\n",
       "      <td>PG</td>\n",
       "      <td>394.0</td>\n",
       "      <td>2.0</td>\n",
       "    </tr>\n",
       "    <tr>\n",
       "      <td>...</td>\n",
       "      <td>...</td>\n",
       "      <td>...</td>\n",
       "      <td>...</td>\n",
       "      <td>...</td>\n",
       "      <td>...</td>\n",
       "      <td>...</td>\n",
       "    </tr>\n",
       "    <tr>\n",
       "      <td>6202</td>\n",
       "      <td>Zach LaVine</td>\n",
       "      <td>196.0</td>\n",
       "      <td>85.0</td>\n",
       "      <td>PG</td>\n",
       "      <td>778.0</td>\n",
       "      <td>10.0</td>\n",
       "    </tr>\n",
       "    <tr>\n",
       "      <td>6203</td>\n",
       "      <td>Zach Randolph</td>\n",
       "      <td>206.0</td>\n",
       "      <td>117.0</td>\n",
       "      <td>NaN</td>\n",
       "      <td>NaN</td>\n",
       "      <td>NaN</td>\n",
       "    </tr>\n",
       "    <tr>\n",
       "      <td>6204</td>\n",
       "      <td>Zaid Abdul-Aziz</td>\n",
       "      <td>206.0</td>\n",
       "      <td>106.0</td>\n",
       "      <td>NaN</td>\n",
       "      <td>NaN</td>\n",
       "      <td>NaN</td>\n",
       "    </tr>\n",
       "    <tr>\n",
       "      <td>6205</td>\n",
       "      <td>Zeke Zawoluk</td>\n",
       "      <td>201.0</td>\n",
       "      <td>97.0</td>\n",
       "      <td>NaN</td>\n",
       "      <td>NaN</td>\n",
       "      <td>NaN</td>\n",
       "    </tr>\n",
       "    <tr>\n",
       "      <td>6206</td>\n",
       "      <td>Zendon Hamilton</td>\n",
       "      <td>211.0</td>\n",
       "      <td>113.0</td>\n",
       "      <td>NaN</td>\n",
       "      <td>NaN</td>\n",
       "      <td>NaN</td>\n",
       "    </tr>\n",
       "  </tbody>\n",
       "</table>\n",
       "<p>6207 rows × 6 columns</p>\n",
       "</div>"
      ],
      "text/plain": [
       "               Player  height_y  weight_y  Pos     PTS   BLK\n",
       "0        Aaron Brooks     183.0      73.0   PG   264.0   5.0\n",
       "1        Aaron Brooks     183.0      73.0   PG   894.0   8.0\n",
       "2        Aaron Brooks     183.0      73.0   PG  1604.0  14.0\n",
       "3        Aaron Brooks     183.0      73.0   PG   634.0   3.0\n",
       "4        Aaron Brooks     183.0      73.0   PG   394.0   2.0\n",
       "...               ...       ...       ...  ...     ...   ...\n",
       "6202      Zach LaVine     196.0      85.0   PG   778.0  10.0\n",
       "6203    Zach Randolph     206.0     117.0  NaN     NaN   NaN\n",
       "6204  Zaid Abdul-Aziz     206.0     106.0  NaN     NaN   NaN\n",
       "6205     Zeke Zawoluk     201.0      97.0  NaN     NaN   NaN\n",
       "6206  Zendon Hamilton     211.0     113.0  NaN     NaN   NaN\n",
       "\n",
       "[6207 rows x 6 columns]"
      ]
     },
     "execution_count": 89,
     "metadata": {},
     "output_type": "execute_result"
    }
   ],
   "source": [
    "PG_PTS_height_weight_data = pd.merge(clean_height_weight_df,PG_df,\n",
    "                                 how='left', on=[\"Player\",\"Player\"])\n",
    "\n",
    "PG_PTS_height_weight_data"
   ]
  },
  {
   "cell_type": "code",
   "execution_count": 90,
   "metadata": {},
   "outputs": [
    {
     "data": {
      "text/plain": [
       "Player           Pos\n",
       "Aaron Brooks     PG     183.0\n",
       "Aaron McKie      PG     196.0\n",
       "Aaron Miles      PG     185.0\n",
       "Acie Law         PG     190.0\n",
       "Adonis Jordan    PG     180.0\n",
       "                        ...  \n",
       "Winston Garland  PG     188.0\n",
       "Yogi Ferrell     PG     183.0\n",
       "Yuta Tabuse      PG     175.0\n",
       "Zabian Dowdell   PG     190.0\n",
       "Zach LaVine      PG     196.0\n",
       "Name: height_y, Length: 671, dtype: float64"
      ]
     },
     "execution_count": 90,
     "metadata": {},
     "output_type": "execute_result"
    }
   ],
   "source": [
    "PG_player_height = PG_PTS_height_weight_data.groupby(['Player','Pos']).mean()[\"height_y\"]\n",
    "PG_player_height"
   ]
  },
  {
   "cell_type": "code",
   "execution_count": 91,
   "metadata": {},
   "outputs": [
    {
     "data": {
      "text/plain": [
       "Player           Pos\n",
       "Aaron Brooks     PG     73.0\n",
       "Aaron McKie      PG     94.0\n",
       "Aaron Miles      PG     79.0\n",
       "Acie Law         PG     88.0\n",
       "Adonis Jordan    PG     77.0\n",
       "                        ... \n",
       "Winston Garland  PG     77.0\n",
       "Yogi Ferrell     PG     81.0\n",
       "Yuta Tabuse      PG     74.0\n",
       "Zabian Dowdell   PG     86.0\n",
       "Zach LaVine      PG     85.0\n",
       "Name: weight_y, Length: 671, dtype: float64"
      ]
     },
     "execution_count": 91,
     "metadata": {},
     "output_type": "execute_result"
    }
   ],
   "source": [
    "PG_player_weight = PG_PTS_height_weight_data.groupby(['Player','Pos']).mean()[\"weight_y\"]\n",
    "PG_player_weight"
   ]
  },
  {
   "cell_type": "code",
   "execution_count": 92,
   "metadata": {},
   "outputs": [
    {
     "data": {
      "text/plain": [
       "Player           Pos\n",
       "Aaron Brooks     PG     113.0\n",
       "Aaron McKie      PG       0.0\n",
       "Aaron Miles      PG       1.0\n",
       "Acie Law         PG       5.0\n",
       "Adonis Jordan    PG       1.0\n",
       "                        ...  \n",
       "Winston Garland  PG      90.0\n",
       "Yogi Ferrell     PG      18.0\n",
       "Yuta Tabuse      PG       0.0\n",
       "Zabian Dowdell   PG       2.0\n",
       "Zach LaVine      PG      10.0\n",
       "Name: BLK, Length: 671, dtype: float64"
      ]
     },
     "execution_count": 92,
     "metadata": {},
     "output_type": "execute_result"
    }
   ],
   "source": [
    "PG_PTS_count = PG_PTS_height_weight_data.groupby(['Player','Pos']).sum()[\"PTS\"]\n",
    "PG_PTS_count\n",
    "\n",
    "PG_BLK_count = PG_PTS_height_weight_data.groupby(['Player','Pos']).sum()[\"BLK\"]\n",
    "PG_BLK_count"
   ]
  },
  {
   "cell_type": "code",
   "execution_count": 93,
   "metadata": {},
   "outputs": [
    {
     "data": {
      "text/html": [
       "<div>\n",
       "<style scoped>\n",
       "    .dataframe tbody tr th:only-of-type {\n",
       "        vertical-align: middle;\n",
       "    }\n",
       "\n",
       "    .dataframe tbody tr th {\n",
       "        vertical-align: top;\n",
       "    }\n",
       "\n",
       "    .dataframe thead th {\n",
       "        text-align: right;\n",
       "    }\n",
       "</style>\n",
       "<table border=\"1\" class=\"dataframe\">\n",
       "  <thead>\n",
       "    <tr style=\"text-align: right;\">\n",
       "      <th></th>\n",
       "      <th></th>\n",
       "      <th>Total PTS</th>\n",
       "      <th>Height</th>\n",
       "      <th>Weight</th>\n",
       "      <th>Total BLKS</th>\n",
       "    </tr>\n",
       "    <tr>\n",
       "      <th>Player</th>\n",
       "      <th>Pos</th>\n",
       "      <th></th>\n",
       "      <th></th>\n",
       "      <th></th>\n",
       "      <th></th>\n",
       "    </tr>\n",
       "  </thead>\n",
       "  <tbody>\n",
       "    <tr>\n",
       "      <td>Aaron Brooks</td>\n",
       "      <td>PG</td>\n",
       "      <td>7839.0</td>\n",
       "      <td>183.0</td>\n",
       "      <td>73.0</td>\n",
       "      <td>113.0</td>\n",
       "    </tr>\n",
       "    <tr>\n",
       "      <td>Aaron McKie</td>\n",
       "      <td>PG</td>\n",
       "      <td>7.0</td>\n",
       "      <td>196.0</td>\n",
       "      <td>94.0</td>\n",
       "      <td>0.0</td>\n",
       "    </tr>\n",
       "    <tr>\n",
       "      <td>Aaron Miles</td>\n",
       "      <td>PG</td>\n",
       "      <td>16.0</td>\n",
       "      <td>185.0</td>\n",
       "      <td>79.0</td>\n",
       "      <td>1.0</td>\n",
       "    </tr>\n",
       "    <tr>\n",
       "      <td>Acie Law</td>\n",
       "      <td>PG</td>\n",
       "      <td>1053.0</td>\n",
       "      <td>190.0</td>\n",
       "      <td>88.0</td>\n",
       "      <td>5.0</td>\n",
       "    </tr>\n",
       "    <tr>\n",
       "      <td>Adonis Jordan</td>\n",
       "      <td>PG</td>\n",
       "      <td>21.0</td>\n",
       "      <td>180.0</td>\n",
       "      <td>77.0</td>\n",
       "      <td>1.0</td>\n",
       "    </tr>\n",
       "    <tr>\n",
       "      <td>...</td>\n",
       "      <td>...</td>\n",
       "      <td>...</td>\n",
       "      <td>...</td>\n",
       "      <td>...</td>\n",
       "      <td>...</td>\n",
       "    </tr>\n",
       "    <tr>\n",
       "      <td>Winston Garland</td>\n",
       "      <td>PG</td>\n",
       "      <td>5373.0</td>\n",
       "      <td>188.0</td>\n",
       "      <td>77.0</td>\n",
       "      <td>90.0</td>\n",
       "    </tr>\n",
       "    <tr>\n",
       "      <td>Yogi Ferrell</td>\n",
       "      <td>PG</td>\n",
       "      <td>924.0</td>\n",
       "      <td>183.0</td>\n",
       "      <td>81.0</td>\n",
       "      <td>18.0</td>\n",
       "    </tr>\n",
       "    <tr>\n",
       "      <td>Yuta Tabuse</td>\n",
       "      <td>PG</td>\n",
       "      <td>7.0</td>\n",
       "      <td>175.0</td>\n",
       "      <td>74.0</td>\n",
       "      <td>0.0</td>\n",
       "    </tr>\n",
       "    <tr>\n",
       "      <td>Zabian Dowdell</td>\n",
       "      <td>PG</td>\n",
       "      <td>121.0</td>\n",
       "      <td>190.0</td>\n",
       "      <td>86.0</td>\n",
       "      <td>2.0</td>\n",
       "    </tr>\n",
       "    <tr>\n",
       "      <td>Zach LaVine</td>\n",
       "      <td>PG</td>\n",
       "      <td>778.0</td>\n",
       "      <td>196.0</td>\n",
       "      <td>85.0</td>\n",
       "      <td>10.0</td>\n",
       "    </tr>\n",
       "  </tbody>\n",
       "</table>\n",
       "<p>671 rows × 4 columns</p>\n",
       "</div>"
      ],
      "text/plain": [
       "                     Total PTS  Height  Weight  Total BLKS\n",
       "Player          Pos                                       \n",
       "Aaron Brooks    PG      7839.0   183.0    73.0       113.0\n",
       "Aaron McKie     PG         7.0   196.0    94.0         0.0\n",
       "Aaron Miles     PG        16.0   185.0    79.0         1.0\n",
       "Acie Law        PG      1053.0   190.0    88.0         5.0\n",
       "Adonis Jordan   PG        21.0   180.0    77.0         1.0\n",
       "...                        ...     ...     ...         ...\n",
       "Winston Garland PG      5373.0   188.0    77.0        90.0\n",
       "Yogi Ferrell    PG       924.0   183.0    81.0        18.0\n",
       "Yuta Tabuse     PG         7.0   175.0    74.0         0.0\n",
       "Zabian Dowdell  PG       121.0   190.0    86.0         2.0\n",
       "Zach LaVine     PG       778.0   196.0    85.0        10.0\n",
       "\n",
       "[671 rows x 4 columns]"
      ]
     },
     "execution_count": 93,
     "metadata": {},
     "output_type": "execute_result"
    }
   ],
   "source": [
    "PG_PTS_summary = pd.DataFrame({\"Total PTS\": PG_PTS_count,\n",
    "                            \"Height\": PG_player_height,\n",
    "                               \"Weight\": PG_player_weight,\n",
    "                               \"Total BLKS\": PG_BLK_count\n",
    "                          })\n",
    "PG_PTS_summary"
   ]
  },
  {
   "cell_type": "code",
   "execution_count": 94,
   "metadata": {},
   "outputs": [
    {
     "name": "stdout",
     "output_type": "stream",
     "text": [
      "The r-squared value is: 0.00076895791269398\n",
      "The correlation between both factors is: -0.03\n"
     ]
    },
    {
     "data": {
      "image/png": "[encoded data removed]",
      "text/plain": [
       "<Figure size 432x288 with 1 Axes>"
      ]
     },
     "metadata": {
      "needs_background": "light"
     },
     "output_type": "display_data"
    }
   ],
   "source": [
    "correlation = round(st.pearsonr(PG_player_height,PG_PTS_count)[0],2)\n",
    "\n",
    "(slope, intercept, rvalue, pvalue, stderr) = linregress(PG_player_height, PG_PTS_count)\n",
    "regress_values = PG_player_height * slope + intercept\n",
    "line_eq = \"y = \" + str(round(slope,2)) + \"x + \" + str(round(intercept,2))\n",
    "\n",
    "plt.scatter(PG_player_height,PG_PTS_count)\n",
    "plt.plot(PG_player_height,regress_values,color=\"red\")\n",
    "plt.annotate(line_eq,(160,17500),fontsize=15,color=\"red\")\n",
    "plt.title(\"PG Height vs. PTS\")\n",
    "plt.xlabel('PG Height (cm)')\n",
    "plt.ylabel('PTS Total')\n",
    "print(f\"The r-squared value is: {rvalue**2}\")\n",
    "print(f\"The correlation between both factors is: {correlation}\")\n",
    "plt.show()"
   ]
  },
  {
   "cell_type": "code",
   "execution_count": 97,
   "metadata": {},
   "outputs": [
    {
     "name": "stdout",
     "output_type": "stream",
     "text": [
      "The r-squared value is: 0.00014482712721450094\n",
      "The correlation between both factors is: -0.01\n"
     ]
    },
    {
     "data": {
      "image/png": "[encoded data removed]",
      "text/plain": [
       "<Figure size 432x288 with 1 Axes>"
      ]
     },
     "metadata": {
      "needs_background": "light"
     },
     "output_type": "display_data"
    }
   ],
   "source": [
    "correlation = round(st.pearsonr(PG_player_weight,PG_PTS_count)[0],2)\n",
    "\n",
    "(slope, intercept, rvalue, pvalue, stderr) = linregress(PG_player_weight, PG_PTS_count)\n",
    "regress_values = PG_player_weight * slope + intercept\n",
    "line_eq = \"y = \" + str(round(slope,2)) + \"x + \" + str(round(intercept,2))\n",
    "\n",
    "plt.scatter(PG_player_weight,PG_PTS_count)\n",
    "plt.plot(PG_player_weight,regress_values,color=\"red\")\n",
    "plt.annotate(line_eq,(160,17500),fontsize=15,color=\"red\")\n",
    "plt.title(\"PG Weight vs. PTS\")\n",
    "plt.xlabel('PG Weight (kg)')\n",
    "plt.ylabel('PTS Total')\n",
    "print(f\"The r-squared value is: {rvalue**2}\")\n",
    "print(f\"The correlation between both factors is: {correlation}\")\n",
    "plt.show()"
   ]
  },
  {
   "cell_type": "code",
   "execution_count": 105,
   "metadata": {},
   "outputs": [
    {
     "name": "stdout",
     "output_type": "stream",
     "text": [
      "The r-squared value is: 0.010018692656342698\n",
      "The correlation between both factors is: 0.1\n"
     ]
    },
    {
     "data": {
      "image/png": "[encoded data removed]",
      "text/plain": [
       "<Figure size 432x288 with 1 Axes>"
      ]
     },
     "metadata": {
      "needs_background": "light"
     },
     "output_type": "display_data"
    }
   ],
   "source": [
    "correlation = round(st.pearsonr(PG_player_height,PG_BLK_count)[0],2)\n",
    "\n",
    "(slope, intercept, rvalue, pvalue, stderr) = linregress(PG_player_height, PG_BLK_count)\n",
    "regress_values = PG_player_height * slope + intercept\n",
    "line_eq = \"y = \" + str(round(slope,2)) + \"x + \" + str(round(intercept,2))\n",
    "\n",
    "plt.scatter(PG_player_height,PG_BLK_count)\n",
    "plt.plot(PG_player_height,regress_values,color=\"red\")\n",
    "plt.annotate(line_eq,(160,17500),fontsize=15,color=\"red\")\n",
    "plt.title(\"PG Height vs. Blocks\")\n",
    "plt.xlabel('PG Height (cm)')\n",
    "plt.ylabel('Total Blocks')\n",
    "print(f\"The r-squared value is: {rvalue**2}\")\n",
    "print(f\"The correlation between both factors is: {correlation}\")\n",
    "plt.show()"
   ]
  },
  {
   "cell_type": "code",
   "execution_count": 106,
   "metadata": {},
   "outputs": [
    {
     "name": "stdout",
     "output_type": "stream",
     "text": [
      "The r-squared value is: 0.006893951456135524\n",
      "The correlation between both factors is: 0.08\n"
     ]
    },
    {
     "data": {
      "image/png": "[encoded data removed]",
      "text/plain": [
       "<Figure size 432x288 with 1 Axes>"
      ]
     },
     "metadata": {
      "needs_background": "light"
     },
     "output_type": "display_data"
    }
   ],
   "source": [
    "correlation = round(st.pearsonr(PG_player_weight,PG_BLK_count)[0],2)\n",
    "\n",
    "(slope, intercept, rvalue, pvalue, stderr) = linregress(PG_player_weight, PG_BLK_count)\n",
    "regress_values = PG_player_weight * slope + intercept\n",
    "line_eq = \"y = \" + str(round(slope,2)) + \"x + \" + str(round(intercept,2))\n",
    "\n",
    "plt.scatter(PG_player_weight,PG_BLK_count)\n",
    "plt.plot(PG_player_weight,regress_values,color=\"red\")\n",
    "plt.annotate(line_eq,(160,17500),fontsize=15,color=\"red\")\n",
    "plt.title(\"PG Weight vs. Blocks\")\n",
    "plt.xlabel('PG Weight (kg)')\n",
    "plt.ylabel('Total Blocks')\n",
    "print(f\"The r-squared value is: {rvalue**2}\")\n",
    "print(f\"The correlation between both factors is: {correlation}\")\n",
    "plt.show()"
   ]
  },
  {
   "cell_type": "code",
   "execution_count": null,
   "metadata": {},
   "outputs": [],
   "source": []
  }
 ],
 "metadata": {
  "kernelspec": {
   "display_name": "Python 3",
   "language": "python",
   "name": "python3"
  },
  "language_info": {
   "codemirror_mode": {
    "name": "ipython",
    "version": 3
   },
   "file_extension": ".py",
   "mimetype": "text/x-python",
   "name": "python",
   "nbconvert_exporter": "python",
   "pygments_lexer": "ipython3",
   "version": "3.7.4"
  }
 },
 "nbformat": 4,
 "nbformat_minor": 2
}
